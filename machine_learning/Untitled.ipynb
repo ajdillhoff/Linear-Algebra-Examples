{
 "cells": [
  {
   "cell_type": "code",
   "execution_count": 1,
   "id": "767fd3b4",
   "metadata": {},
   "outputs": [
    {
     "name": "stdout",
     "output_type": "stream",
     "text": [
      "[[ 0.62860633  0.21103595 -0.67370021]\n",
      " [ 0.3813152  -0.04173899  0.65701236]\n",
      " [ 0.36373949  0.71872547  0.32438502]\n",
      " [ 0.57196711 -0.66117727  0.09611003]]\n",
      "[[-0.62860633  0.21103595  0.67370021]\n",
      " [-0.3813152  -0.04173899 -0.65701236]\n",
      " [-0.36373949  0.71872547 -0.32438502]\n",
      " [-0.57196711 -0.66117727 -0.09611003]]\n"
     ]
    }
   ],
   "source": [
    "import numpy as np\n",
    "\n",
    "X = np.random.rand(4, 3)\n",
    "D, P = np.linalg.eig(X.T @ X)\n",
    "sort_idx = D.argsort()[::-1]\n",
    "D = D[sort_idx]\n",
    "P = P[:,sort_idx]\n",
    "P = X @ P\n",
    "P = P / np.linalg.norm(P, axis=0)\n",
    "print(P)\n",
    "\n",
    "U, S, V = np.linalg.svd(X, full_matrices=False)\n",
    "print(U)"
   ]
  }
 ],
 "metadata": {
  "kernelspec": {
   "display_name": "Python 3",
   "language": "python",
   "name": "python3"
  },
  "language_info": {
   "codemirror_mode": {
    "name": "ipython",
    "version": 3
   },
   "file_extension": ".py",
   "mimetype": "text/x-python",
   "name": "python",
   "nbconvert_exporter": "python",
   "pygments_lexer": "ipython3",
   "version": "3.8.8"
  }
 },
 "nbformat": 4,
 "nbformat_minor": 5
}
