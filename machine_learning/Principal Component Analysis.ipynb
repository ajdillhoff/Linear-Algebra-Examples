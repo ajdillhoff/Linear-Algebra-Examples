{
 "cells": [
  {
   "cell_type": "code",
   "execution_count": 1,
   "metadata": {},
   "outputs": [],
   "source": [
    "import numpy as np\n",
    "import matplotlib.pyplot as plt\n",
    "\n",
    "%matplotlib notebook"
   ]
  },
  {
   "cell_type": "markdown",
   "metadata": {},
   "source": [
    "# Principal Component Analysis\n",
    "\n",
    "This notebook will demonstrate performing principal component analysis using eigenvectors of the covariance matrix as well as SVD.\n",
    "\n",
    "First, let's set up a mock example. Let's say that we have 3 sensors that observe the location of a ball attached to a spring. We are going to use PCA to determine the underlying dynamics of this system."
   ]
  },
  {
   "cell_type": "code",
   "execution_count": 6,
   "metadata": {},
   "outputs": [
    {
     "name": "stderr",
     "output_type": "stream",
     "text": [
      "/Users/ajd/anaconda3/lib/python3.6/site-packages/ipykernel_launcher.py:1: RuntimeWarning: covariance is not positive-semidefinite.\n",
      "  \"\"\"Entry point for launching an IPython kernel.\n",
      "/Users/ajd/anaconda3/lib/python3.6/site-packages/ipykernel_launcher.py:2: RuntimeWarning: covariance is not positive-semidefinite.\n",
      "  \n",
      "/Users/ajd/anaconda3/lib/python3.6/site-packages/ipykernel_launcher.py:3: RuntimeWarning: covariance is not positive-semidefinite.\n",
      "  This is separate from the ipykernel package so we can avoid doing imports until\n"
     ]
    },
    {
     "data": {
      "text/plain": [
       "<matplotlib.collections.PathCollection at 0x7fd97ba27b38>"
      ]
     },
     "execution_count": 6,
     "metadata": {},
     "output_type": "execute_result"
    },
    {
     "data": {
      "image/png": "[encoded data removed]",
      "text/plain": [
       "<Figure size 432x288 with 1 Axes>"
      ]
     },
     "metadata": {
      "needs_background": "light"
     },
     "output_type": "display_data"
    }
   ],
   "source": [
    "x_a = np.random.multivariate_normal([-1, 1], [[0.9, 0.5], [0.05, 0.05]], 100)\n",
    "x_b = np.random.multivariate_normal([-1, 1], [[-0.9, 0.5], [-0.1, 0]], 100)\n",
    "x_c = np.random.multivariate_normal([-1, 1], [[0, 1], [0.03, 0]], 100)\n",
    "\n",
    "fig = plt.figure()\n",
    "ax = fig.add_subplot(111)\n",
    "ax.scatter(x_a[:, 0], x_a[:, 1], c='b')\n",
    "ax.scatter(x_b[:, 0], x_b[:, 1], c='r')\n",
    "ax.scatter(x_c[:, 0], x_c[:, 1], c='g')"
   ]
  },
  {
   "cell_type": "markdown",
   "metadata": {},
   "source": [
    "# PCA via Eigenvectors of the Covariance Matrix\n",
    "\n",
    "With PCA, we are attempting to find a change-of-basis matrix $P$ such that our original data $X$ is transformed into a new representation $Y$. We want the new representation $Y$ to reduce the redunancy among the features. That is, find a $P$ such that $S_{Y} = \\frac{1}{n-1}YY^{T}$ will be diagonalized.\n",
    "\n",
    "\n",
    "We start by constructing a covariance matrix between the features that we have observed: $S_{X} = \\frac{1}{n-1}XX^{T}$.\n",
    "\n",
    "\n",
    "So, how do we find this? We start by noting that\n",
    "\\begin{align*}\n",
    "S_{Y} &= \\frac{1}{n-1}YY^{T}\\\\\n",
    "&= \\frac{1}{n-1}(PX)(PX)^{T}\\\\\n",
    "&= \\frac{1}{n-1}PXX^{T}P^{T}\\\\\n",
    "&= \\frac{1}{n-1}P(XX^{T})P^{T}\\\\\n",
    "&= \\frac{1}{n-1}PAP^{T}\n",
    "\\end{align*}\n",
    "\n",
    "\n",
    "Here, $A = XX^{T}$ is symmetric. We also learned about a useful factorization of symmetric matrices: $A = EDE^{T}$, where $D$ is a diagonal matrix representing the eigenvalues of $A$ and $E$ represents the corresponding eigenvectors.\n",
    "\n",
    "\n",
    "Getting back to our original $P$. We want $P$ such that each row is an eigenvector of $A$. This is simply $E^{T}$ from the factorization above! Thus, $P = E^{T}$. We can now substitute $A = P^{T}DP$ into $S_{Y} = \\frac{1}{n-1}PAP^{T}$:\n",
    "\n",
    "\\begin{align*}\n",
    "S_{Y} &= \\frac{1}{n-1}PAP^{T}\\\\\n",
    "&= \\frac{1}{n-1}P(P^{T}DP)P^{T}\\\\\n",
    "&= \\frac{1}{n-1}(PP^{T})D(PP^{T})\\\\\n",
    "&= \\frac{1}{n-1}(PP^{-1})D(PP^{-1})\\\\\n",
    "&= \\frac{1}{n-1}D\\\\\n",
    "\\end{align*}\n",
    "\n",
    "\n",
    "We are left with $P$, the principal components of $X$, and $S_{Y}$, the variance of $X$ along the rows of $P$."
   ]
  },
  {
   "cell_type": "code",
   "execution_count": 7,
   "metadata": {},
   "outputs": [
    {
     "name": "stdout",
     "output_type": "stream",
     "text": [
      "6 100\n"
     ]
    },
    {
     "data": {
      "image/png": "[encoded data removed]",
      "text/plain": [
       "<Figure size 432x288 with 1 Axes>"
      ]
     },
     "metadata": {
      "needs_background": "light"
     },
     "output_type": "display_data"
    }
   ],
   "source": [
    "# Construct the matrix X out of our 3 sensors\n",
    "X = np.vstack([x_b.T, x_a.T, x_c.T])\n",
    "num_features, num_samples = X.shape\n",
    "print(num_features, num_samples)\n",
    "\n",
    "# Subtract the mean from each dimension\n",
    "X_mean = np.mean(X, 1)\n",
    "X = X - X_mean[:, np.newaxis]\n",
    "\n",
    "# Calculate the covariance\n",
    "X_cov = 1 / (num_samples - 1) * X @ X.T\n",
    "\n",
    "fig = plt.figure()\n",
    "ax = fig.add_subplot(111)\n",
    "ax.matshow(X_cov)\n",
    "\n",
    "# Compute the eigendecomposition\n",
    "D, P = np.linalg.eig(X_cov)"
   ]
  },
  {
   "cell_type": "markdown",
   "metadata": {},
   "source": [
    "# Dimensionality Reduction\n",
    "\n",
    "Clearly we do not need 6 dimensions to describe the underlying dynamics of the given system. The eigenvectors corresponding the largest eigenvalues capture the largest variance of our dataset.\n",
    "\n",
    "We can select only a few of these eigenvectors and project our data to a lower dimension. In this case, we will transform each 6D feature vector back to 2D using the 2 eigenvectors that best capture the variance of the data."
   ]
  },
  {
   "cell_type": "code",
   "execution_count": 13,
   "metadata": {},
   "outputs": [],
   "source": [
    "# Sort eigenvalues and eigenvectors in decreasing order\n",
    "sort_idx = D.argsort()[::-1]\n",
    "D = D[sort_idx]\n",
    "P = P[:,sort_idx]\n",
    "\n",
    "n_comps = 2 # number of eigenvectors to use\n",
    "W = P[:n_comps]"
   ]
  },
  {
   "cell_type": "markdown",
   "metadata": {},
   "source": [
    "# Visualizing the projected space\n",
    "\n",
    "Now that we've computed the principal components of our original data. We can see what they look like when projected to the new space.\n",
    "\n",
    "\n",
    "This will qualitatively provide the answer to the question of what is the most salient feature in our data?"
   ]
  },
  {
   "cell_type": "code",
   "execution_count": 14,
   "metadata": {},
   "outputs": [
    {
     "data": {
      "text/plain": [
       "(-3.0, 3.0)"
      ]
     },
     "execution_count": 14,
     "metadata": {},
     "output_type": "execute_result"
    },
    {
     "data": {
      "image/png": "[encoded data removed]",
      "text/plain": [
       "<Figure size 432x288 with 1 Axes>"
      ]
     },
     "metadata": {
      "needs_background": "light"
     },
     "output_type": "display_data"
    }
   ],
   "source": [
    "# Project the original samples using the principal components corresponding to the highest variance.\n",
    "X_proj = W @ X\n",
    "\n",
    "fig = plt.figure()\n",
    "ax = fig.add_subplot(111)\n",
    "ax.scatter(X_proj[0, :], X_proj[1, :], c='b') # when using 2 components\n",
    "# ax.scatter(X_proj[0, :], np.zeros(X_proj.shape[1]), c='b') # when using 1 component\n",
    "ax.set_xlim([-3, 3])\n",
    "ax.set_ylim([-3, 3])"
   ]
  },
  {
   "cell_type": "code",
   "execution_count": null,
   "metadata": {},
   "outputs": [],
   "source": []
  }
 ],
 "metadata": {
  "kernelspec": {
   "display_name": "Python 3",
   "language": "python",
   "name": "python3"
  },
  "language_info": {
   "codemirror_mode": {
    "name": "ipython",
    "version": 3
   },
   "file_extension": ".py",
   "mimetype": "text/x-python",
   "name": "python",
   "nbconvert_exporter": "python",
   "pygments_lexer": "ipython3",
   "version": "3.6.8"
  }
 },
 "nbformat": 4,
 "nbformat_minor": 5
}
